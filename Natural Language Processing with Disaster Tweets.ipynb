{
 "cells": [
  {
   "cell_type": "code",
   "execution_count": 1,
   "id": "3c262757",
   "metadata": {
    "_cell_guid": "b1076dfc-b9ad-4769-8c92-a6c4dae69d19",
    "_uuid": "8f2839f25d086af736a60e9eeb907d3b93b6e0e5",
    "execution": {
     "iopub.execute_input": "2025-08-25T12:39:50.156328Z",
     "iopub.status.busy": "2025-08-25T12:39:50.155535Z",
     "iopub.status.idle": "2025-08-25T12:39:51.888516Z",
     "shell.execute_reply": "2025-08-25T12:39:51.887516Z"
    },
    "papermill": {
     "duration": 1.742285,
     "end_time": "2025-08-25T12:39:51.889998",
     "exception": false,
     "start_time": "2025-08-25T12:39:50.147713",
     "status": "completed"
    },
    "tags": []
   },
   "outputs": [
    {
     "name": "stdout",
     "output_type": "stream",
     "text": [
      "/kaggle/input/nlp-getting-started/sample_submission.csv\n",
      "/kaggle/input/nlp-getting-started/train.csv\n",
      "/kaggle/input/nlp-getting-started/test.csv\n"
     ]
    }
   ],
   "source": [
    "# This Python 3 environment comes with many helpful analytics libraries installed\n",
    "# It is defined by the kaggle/python Docker image: https://github.com/kaggle/docker-python\n",
    "# For example, here's several helpful packages to load\n",
    "\n",
    "import numpy as np # linear algebra\n",
    "import pandas as pd # data processing, CSV file I/O (e.g. pd.read_csv)\n",
    "\n",
    "# Input data files are available in the read-only \"../input/\" directory\n",
    "# For example, running this (by clicking run or pressing Shift+Enter) will list all files under the input directory\n",
    "\n",
    "import os\n",
    "for dirname, _, filenames in os.walk('/kaggle/input'):\n",
    "    for filename in filenames:\n",
    "        print(os.path.join(dirname, filename))\n",
    "\n",
    "# You can write up to 20GB to the current directory (/kaggle/working/) that gets preserved as output when you create a version using \"Save & Run All\" \n",
    "# You can also write temporary files to /kaggle/temp/, but they won't be saved outside of the current session"
   ]
  },
  {
   "cell_type": "code",
   "execution_count": 2,
   "id": "dd838a5c",
   "metadata": {
    "execution": {
     "iopub.execute_input": "2025-08-25T12:39:51.903647Z",
     "iopub.status.busy": "2025-08-25T12:39:51.902789Z",
     "iopub.status.idle": "2025-08-25T12:39:58.472428Z",
     "shell.execute_reply": "2025-08-25T12:39:58.471500Z"
    },
    "papermill": {
     "duration": 6.577944,
     "end_time": "2025-08-25T12:39:58.474147",
     "exception": false,
     "start_time": "2025-08-25T12:39:51.896203",
     "status": "completed"
    },
    "tags": []
   },
   "outputs": [],
   "source": [
    "import torch\n",
    "import torch.nn as nn\n",
    "import torch.optim as optim\n",
    "from torch.utils.data import Dataset, DataLoader\n",
    "import pandas as pd\n",
    "import numpy as np\n",
    "import re\n",
    "from collections import Counter\n",
    "from sklearn.feature_extraction.text import TfidfVectorizer\n",
    "from sklearn.model_selection import train_test_split\n",
    "from sklearn.metrics import accuracy_score, classification_report, confusion_matrix\n",
    "import matplotlib.pyplot as plt\n",
    "import seaborn as sns\n",
    "from torch.nn.utils.rnn import pad_sequence\n",
    "\n",
    "# Set random seeds for reproducibility\n",
    "torch.manual_seed(42)\n",
    "np.random.seed(42)"
   ]
  },
  {
   "cell_type": "markdown",
   "id": "61b2773f",
   "metadata": {
    "papermill": {
     "duration": 0.005275,
     "end_time": "2025-08-25T12:39:58.485364",
     "exception": false,
     "start_time": "2025-08-25T12:39:58.480089",
     "status": "completed"
    },
    "tags": []
   },
   "source": [
    "## Exploratory Data Analysis (EDA)\n",
    "### Load Data\n",
    "Read data from csv files"
   ]
  },
  {
   "cell_type": "code",
   "execution_count": 3,
   "id": "44282e8a",
   "metadata": {
    "execution": {
     "iopub.execute_input": "2025-08-25T12:39:58.497581Z",
     "iopub.status.busy": "2025-08-25T12:39:58.497104Z",
     "iopub.status.idle": "2025-08-25T12:39:58.583426Z",
     "shell.execute_reply": "2025-08-25T12:39:58.582524Z"
    },
    "papermill": {
     "duration": 0.094147,
     "end_time": "2025-08-25T12:39:58.585018",
     "exception": false,
     "start_time": "2025-08-25T12:39:58.490871",
     "status": "completed"
    },
    "tags": []
   },
   "outputs": [],
   "source": [
    "train_data = pd.read_csv('/kaggle/input/nlp-getting-started/train.csv')\n",
    "test_data = pd.read_csv('/kaggle/input/nlp-getting-started/test.csv')"
   ]
  },
  {
   "cell_type": "markdown",
   "id": "aac56a93",
   "metadata": {
    "papermill": {
     "duration": 0.005564,
     "end_time": "2025-08-25T12:39:58.596433",
     "exception": false,
     "start_time": "2025-08-25T12:39:58.590869",
     "status": "completed"
    },
    "tags": []
   },
   "source": [
    "### Inspect Data"
   ]
  },
  {
   "cell_type": "code",
   "execution_count": 4,
   "id": "e13101a3",
   "metadata": {
    "execution": {
     "iopub.execute_input": "2025-08-25T12:39:58.608944Z",
     "iopub.status.busy": "2025-08-25T12:39:58.608607Z",
     "iopub.status.idle": "2025-08-25T12:39:58.641365Z",
     "shell.execute_reply": "2025-08-25T12:39:58.640160Z"
    },
    "papermill": {
     "duration": 0.040684,
     "end_time": "2025-08-25T12:39:58.642913",
     "exception": false,
     "start_time": "2025-08-25T12:39:58.602229",
     "status": "completed"
    },
    "tags": []
   },
   "outputs": [
    {
     "name": "stdout",
     "output_type": "stream",
     "text": [
      "Train set size: (7613, 5)\n",
      "Test set size: (3263, 4)\n",
      "\n",
      "Train set info:\n",
      "<class 'pandas.core.frame.DataFrame'>\n",
      "RangeIndex: 7613 entries, 0 to 7612\n",
      "Data columns (total 5 columns):\n",
      " #   Column    Non-Null Count  Dtype \n",
      "---  ------    --------------  ----- \n",
      " 0   id        7613 non-null   int64 \n",
      " 1   keyword   7552 non-null   object\n",
      " 2   location  5080 non-null   object\n",
      " 3   text      7613 non-null   object\n",
      " 4   target    7613 non-null   int64 \n",
      "dtypes: int64(2), object(3)\n",
      "memory usage: 297.5+ KB\n",
      "\n",
      "Test set info:\n",
      "<class 'pandas.core.frame.DataFrame'>\n",
      "RangeIndex: 3263 entries, 0 to 3262\n",
      "Data columns (total 4 columns):\n",
      " #   Column    Non-Null Count  Dtype \n",
      "---  ------    --------------  ----- \n",
      " 0   id        3263 non-null   int64 \n",
      " 1   keyword   3237 non-null   object\n",
      " 2   location  2158 non-null   object\n",
      " 3   text      3263 non-null   object\n",
      "dtypes: int64(1), object(3)\n",
      "memory usage: 102.1+ KB\n"
     ]
    }
   ],
   "source": [
    "# Check dataset sizes\n",
    "print(\"Train set size:\", train_data.shape)\n",
    "print(\"Test set size:\", test_data.shape)\n",
    "print(\"\\nTrain set info:\")\n",
    "train_data.info()\n",
    "print(\"\\nTest set info:\")\n",
    "test_data.info()"
   ]
  },
  {
   "cell_type": "markdown",
   "id": "3f0e512e",
   "metadata": {
    "papermill": {
     "duration": 0.00507,
     "end_time": "2025-08-25T12:39:58.654371",
     "exception": false,
     "start_time": "2025-08-25T12:39:58.649301",
     "status": "completed"
    },
    "tags": []
   },
   "source": [
    "## Data Preprocess\n",
    "Handle missing values and  clean text."
   ]
  },
  {
   "cell_type": "code",
   "execution_count": 5,
   "id": "dea82e46",
   "metadata": {
    "execution": {
     "iopub.execute_input": "2025-08-25T12:39:58.665984Z",
     "iopub.status.busy": "2025-08-25T12:39:58.665671Z",
     "iopub.status.idle": "2025-08-25T12:39:58.674968Z",
     "shell.execute_reply": "2025-08-25T12:39:58.674043Z"
    },
    "papermill": {
     "duration": 0.016703,
     "end_time": "2025-08-25T12:39:58.676344",
     "exception": false,
     "start_time": "2025-08-25T12:39:58.659641",
     "status": "completed"
    },
    "tags": []
   },
   "outputs": [
    {
     "name": "stderr",
     "output_type": "stream",
     "text": [
      "/tmp/ipykernel_13/527778125.py:2: FutureWarning: A value is trying to be set on a copy of a DataFrame or Series through chained assignment using an inplace method.\n",
      "The behavior will change in pandas 3.0. This inplace method will never work because the intermediate object on which we are setting values always behaves as a copy.\n",
      "\n",
      "For example, when doing 'df[col].method(value, inplace=True)', try using 'df.method({col: value}, inplace=True)' or df[col] = df[col].method(value) instead, to perform the operation inplace on the original object.\n",
      "\n",
      "\n",
      "  train_data['keyword'].fillna('missing_keyword', inplace=True)\n",
      "/tmp/ipykernel_13/527778125.py:3: FutureWarning: A value is trying to be set on a copy of a DataFrame or Series through chained assignment using an inplace method.\n",
      "The behavior will change in pandas 3.0. This inplace method will never work because the intermediate object on which we are setting values always behaves as a copy.\n",
      "\n",
      "For example, when doing 'df[col].method(value, inplace=True)', try using 'df.method({col: value}, inplace=True)' or df[col] = df[col].method(value) instead, to perform the operation inplace on the original object.\n",
      "\n",
      "\n",
      "  train_data['location'].fillna('missing_location', inplace=True)\n",
      "/tmp/ipykernel_13/527778125.py:4: FutureWarning: A value is trying to be set on a copy of a DataFrame or Series through chained assignment using an inplace method.\n",
      "The behavior will change in pandas 3.0. This inplace method will never work because the intermediate object on which we are setting values always behaves as a copy.\n",
      "\n",
      "For example, when doing 'df[col].method(value, inplace=True)', try using 'df.method({col: value}, inplace=True)' or df[col] = df[col].method(value) instead, to perform the operation inplace on the original object.\n",
      "\n",
      "\n",
      "  test_data['keyword'].fillna('missing_keyword', inplace=True)\n",
      "/tmp/ipykernel_13/527778125.py:5: FutureWarning: A value is trying to be set on a copy of a DataFrame or Series through chained assignment using an inplace method.\n",
      "The behavior will change in pandas 3.0. This inplace method will never work because the intermediate object on which we are setting values always behaves as a copy.\n",
      "\n",
      "For example, when doing 'df[col].method(value, inplace=True)', try using 'df.method({col: value}, inplace=True)' or df[col] = df[col].method(value) instead, to perform the operation inplace on the original object.\n",
      "\n",
      "\n",
      "  test_data['location'].fillna('missing_location', inplace=True)\n"
     ]
    }
   ],
   "source": [
    "# Handle missing values\n",
    "train_data['keyword'].fillna('missing_keyword', inplace=True)\n",
    "train_data['location'].fillna('missing_location', inplace=True)\n",
    "test_data['keyword'].fillna('missing_keyword', inplace=True)\n",
    "test_data['location'].fillna('missing_location', inplace=True)"
   ]
  },
  {
   "cell_type": "code",
   "execution_count": 6,
   "id": "25c7c488",
   "metadata": {
    "execution": {
     "iopub.execute_input": "2025-08-25T12:39:58.689057Z",
     "iopub.status.busy": "2025-08-25T12:39:58.688180Z",
     "iopub.status.idle": "2025-08-25T12:39:58.692975Z",
     "shell.execute_reply": "2025-08-25T12:39:58.692296Z"
    },
    "papermill": {
     "duration": 0.01219,
     "end_time": "2025-08-25T12:39:58.694148",
     "exception": false,
     "start_time": "2025-08-25T12:39:58.681958",
     "status": "completed"
    },
    "tags": []
   },
   "outputs": [],
   "source": [
    "# Clean text\n",
    "def clean_text(text):\n",
    "    text = re.sub(r'http\\S+', '', text)\n",
    "    text = re.sub(r'<.*?>', '', text)\n",
    "    text = re.sub(r'[^A-Za-z\\s]', '', text)\n",
    "    text = text.lower()\n",
    "    text = re.sub(r'\\s+', ' ', text).strip()\n",
    "    return text"
   ]
  },
  {
   "cell_type": "code",
   "execution_count": 7,
   "id": "da712c34",
   "metadata": {
    "execution": {
     "iopub.execute_input": "2025-08-25T12:39:58.706573Z",
     "iopub.status.busy": "2025-08-25T12:39:58.705996Z",
     "iopub.status.idle": "2025-08-25T12:39:58.837214Z",
     "shell.execute_reply": "2025-08-25T12:39:58.836283Z"
    },
    "papermill": {
     "duration": 0.139118,
     "end_time": "2025-08-25T12:39:58.838935",
     "exception": false,
     "start_time": "2025-08-25T12:39:58.699817",
     "status": "completed"
    },
    "tags": []
   },
   "outputs": [],
   "source": [
    "train_data['clean_text'] = train_data['text'].apply(clean_text)\n",
    "test_data['clean_text'] = test_data['text'].apply(clean_text)"
   ]
  },
  {
   "cell_type": "code",
   "execution_count": 8,
   "id": "e524fc51",
   "metadata": {
    "execution": {
     "iopub.execute_input": "2025-08-25T12:39:58.851693Z",
     "iopub.status.busy": "2025-08-25T12:39:58.851334Z",
     "iopub.status.idle": "2025-08-25T12:39:58.864355Z",
     "shell.execute_reply": "2025-08-25T12:39:58.863511Z"
    },
    "papermill": {
     "duration": 0.020928,
     "end_time": "2025-08-25T12:39:58.865905",
     "exception": false,
     "start_time": "2025-08-25T12:39:58.844977",
     "status": "completed"
    },
    "tags": []
   },
   "outputs": [],
   "source": [
    "# Combine features\n",
    "train_data['combined_text'] = train_data['keyword'] + ' ' + train_data['location'] + ' ' + train_data['clean_text']\n",
    "test_data['combined_text'] = test_data['keyword'] + ' ' + test_data['location'] + ' ' + test_data['clean_text']"
   ]
  },
  {
   "cell_type": "markdown",
   "id": "aa9b3573",
   "metadata": {
    "papermill": {
     "duration": 0.005651,
     "end_time": "2025-08-25T12:39:58.877486",
     "exception": false,
     "start_time": "2025-08-25T12:39:58.871835",
     "status": "completed"
    },
    "tags": []
   },
   "source": [
    "## Data Analysis"
   ]
  },
  {
   "cell_type": "code",
   "execution_count": 9,
   "id": "b9041d4f",
   "metadata": {
    "execution": {
     "iopub.execute_input": "2025-08-25T12:39:58.890223Z",
     "iopub.status.busy": "2025-08-25T12:39:58.889389Z",
     "iopub.status.idle": "2025-08-25T12:39:59.094288Z",
     "shell.execute_reply": "2025-08-25T12:39:59.093528Z"
    },
    "papermill": {
     "duration": 0.213058,
     "end_time": "2025-08-25T12:39:59.096081",
     "exception": false,
     "start_time": "2025-08-25T12:39:58.883023",
     "status": "completed"
    },
    "tags": []
   },
   "outputs": [
    {
     "data": {
      "image/png": "[encoded data removed]",
      "text/plain": [
       "<Figure size 800x500 with 1 Axes>"
      ]
     },
     "metadata": {},
     "output_type": "display_data"
    },
    {
     "name": "stdout",
     "output_type": "stream",
     "text": [
      "Target value counts:\n",
      "target\n",
      "0    4342\n",
      "1    3271\n",
      "Name: count, dtype: int64\n"
     ]
    }
   ],
   "source": [
    "# Check target distribution\n",
    "plt.figure(figsize=(8, 5))\n",
    "sns.countplot(x='target', data=train_data)\n",
    "plt.title('Distribution of Target Variable')\n",
    "plt.xlabel('Target')\n",
    "plt.ylabel('Count')\n",
    "plt.show()\n",
    "\n",
    "print(\"Target value counts:\")\n",
    "print(train_data['target'].value_counts())"
   ]
  },
  {
   "cell_type": "code",
   "execution_count": 10,
   "id": "226be27d",
   "metadata": {
    "execution": {
     "iopub.execute_input": "2025-08-25T12:39:59.109675Z",
     "iopub.status.busy": "2025-08-25T12:39:59.109369Z",
     "iopub.status.idle": "2025-08-25T12:39:59.454963Z",
     "shell.execute_reply": "2025-08-25T12:39:59.454115Z"
    },
    "papermill": {
     "duration": 0.353764,
     "end_time": "2025-08-25T12:39:59.456337",
     "exception": false,
     "start_time": "2025-08-25T12:39:59.102573",
     "status": "completed"
    },
    "tags": []
   },
   "outputs": [
    {
     "name": "stdout",
     "output_type": "stream",
     "text": [
      "Average character count: 101.04\n",
      "Minimum character count: 7\n",
      "Maximum character count: 157\n"
     ]
    },
    {
     "name": "stderr",
     "output_type": "stream",
     "text": [
      "/usr/local/lib/python3.11/dist-packages/seaborn/_oldcore.py:1119: FutureWarning: use_inf_as_na option is deprecated and will be removed in a future version. Convert inf values to NaN before operating instead.\n",
      "  with pd.option_context('mode.use_inf_as_na', True):\n"
     ]
    },
    {
     "data": {
      "image/png": "[encoded data removed]",
      "text/plain": [
       "<Figure size 1000x600 with 1 Axes>"
      ]
     },
     "metadata": {},
     "output_type": "display_data"
    }
   ],
   "source": [
    "# Character count analysis\n",
    "train_data['char_count'] = train_data['text'].apply(len)\n",
    "print(f\"Average character count: {train_data['char_count'].mean():.2f}\")\n",
    "print(f\"Minimum character count: {train_data['char_count'].min()}\")\n",
    "print(f\"Maximum character count: {train_data['char_count'].max()}\")\n",
    "\n",
    "# Plot character count distribution\n",
    "plt.figure(figsize=(10, 6))\n",
    "sns.histplot(train_data['char_count'], bins=50, kde=True)\n",
    "plt.title('Distribution of Character Counts in Tweets')\n",
    "plt.xlabel('Character Count')\n",
    "plt.ylabel('Frequency')\n",
    "plt.show()"
   ]
  },
  {
   "cell_type": "markdown",
   "id": "4805605a",
   "metadata": {
    "papermill": {
     "duration": 0.006735,
     "end_time": "2025-08-25T12:39:59.470184",
     "exception": false,
     "start_time": "2025-08-25T12:39:59.463449",
     "status": "completed"
    },
    "tags": []
   },
   "source": [
    "## Data Preparation\n",
    "### Build Vocabulary"
   ]
  },
  {
   "cell_type": "code",
   "execution_count": 11,
   "id": "adc45cee",
   "metadata": {
    "execution": {
     "iopub.execute_input": "2025-08-25T12:39:59.485122Z",
     "iopub.status.busy": "2025-08-25T12:39:59.484566Z",
     "iopub.status.idle": "2025-08-25T12:39:59.524116Z",
     "shell.execute_reply": "2025-08-25T12:39:59.523287Z"
    },
    "papermill": {
     "duration": 0.048377,
     "end_time": "2025-08-25T12:39:59.525456",
     "exception": false,
     "start_time": "2025-08-25T12:39:59.477079",
     "status": "completed"
    },
    "tags": []
   },
   "outputs": [
    {
     "name": "stdout",
     "output_type": "stream",
     "text": [
      "Vocabulary size: 7571\n",
      "Sample vocabulary items:\n",
      "<PAD>: 0\n",
      "<UNK>: 1\n",
      "missing_keyword: 2\n",
      "missing_location: 3\n",
      "our: 4\n",
      "deeds: 5\n",
      "are: 6\n",
      "the: 7\n",
      "reason: 8\n",
      "of: 9\n"
     ]
    }
   ],
   "source": [
    "def build_vocab(texts, min_freq=2):\n",
    "    counter = Counter()\n",
    "    for text in texts:\n",
    "        if isinstance(text, str):\n",
    "            counter.update(text.split())\n",
    "    \n",
    "    # Create vocabulary with special tokens\n",
    "    vocab = {'<PAD>': 0, '<UNK>': 1}\n",
    "    \n",
    "    # Add words that meet the frequency threshold\n",
    "    idx = 2\n",
    "    for word, count in counter.items():\n",
    "        if count >= min_freq:\n",
    "            vocab[word] = idx\n",
    "            idx += 1\n",
    "    \n",
    "    return vocab\n",
    "\n",
    "# Build vocabulary from training data\n",
    "train_texts = train_data['combined_text'].tolist()\n",
    "vocab = build_vocab(train_texts, min_freq=2)\n",
    "print(f\"Vocabulary size: {len(vocab)}\")\n",
    "\n",
    "# Check some vocabulary items\n",
    "print(\"Sample vocabulary items:\")\n",
    "for i, (word, idx) in enumerate(list(vocab.items())[:10]):\n",
    "    print(f\"{word}: {idx}\")"
   ]
  },
  {
   "cell_type": "markdown",
   "id": "1aaf430b",
   "metadata": {
    "papermill": {
     "duration": 0.00678,
     "end_time": "2025-08-25T12:39:59.539337",
     "exception": false,
     "start_time": "2025-08-25T12:39:59.532557",
     "status": "completed"
    },
    "tags": []
   },
   "source": [
    "## Create PyTorch Dataset"
   ]
  },
  {
   "cell_type": "code",
   "execution_count": 12,
   "id": "3a99b49e",
   "metadata": {
    "execution": {
     "iopub.execute_input": "2025-08-25T12:39:59.554946Z",
     "iopub.status.busy": "2025-08-25T12:39:59.554092Z",
     "iopub.status.idle": "2025-08-25T12:39:59.561787Z",
     "shell.execute_reply": "2025-08-25T12:39:59.560913Z"
    },
    "papermill": {
     "duration": 0.016896,
     "end_time": "2025-08-25T12:39:59.563138",
     "exception": false,
     "start_time": "2025-08-25T12:39:59.546242",
     "status": "completed"
    },
    "tags": []
   },
   "outputs": [],
   "source": [
    "class TweetDataset(Dataset):\n",
    "    def __init__(self, texts, labels, vocab, max_length=50):\n",
    "        self.texts = texts\n",
    "        self.labels = labels\n",
    "        self.vocab = vocab\n",
    "        self.max_length = max_length\n",
    "        self.unk_token = vocab['<UNK>']\n",
    "    \n",
    "    def __len__(self):\n",
    "        return len(self.texts)\n",
    "    \n",
    "    def text_to_sequence(self, text):\n",
    "        if not isinstance(text, str):\n",
    "            text = \"\"\n",
    "            \n",
    "        words = text.split()[:self.max_length]\n",
    "        sequence = []\n",
    "        \n",
    "        for word in words:\n",
    "            # Use UNK token for words not in vocabulary\n",
    "            sequence.append(self.vocab.get(word, self.unk_token))\n",
    "        \n",
    "        # Pad sequences to max_length\n",
    "        if len(sequence) < self.max_length:\n",
    "            sequence += [self.vocab['<PAD>']] * (self.max_length - len(sequence))\n",
    "        \n",
    "        return sequence\n",
    "    \n",
    "    def __getitem__(self, idx):\n",
    "        text = self.texts[idx]\n",
    "        sequence = self.text_to_sequence(text)\n",
    "        \n",
    "        if self.labels is not None:\n",
    "            label = self.labels[idx]\n",
    "            return torch.tensor(sequence, dtype=torch.long), torch.tensor(label, dtype=torch.long)\n",
    "        else:\n",
    "            return torch.tensor(sequence, dtype=torch.long)"
   ]
  },
  {
   "cell_type": "code",
   "execution_count": 13,
   "id": "b13ff084",
   "metadata": {
    "execution": {
     "iopub.execute_input": "2025-08-25T12:39:59.578387Z",
     "iopub.status.busy": "2025-08-25T12:39:59.577582Z",
     "iopub.status.idle": "2025-08-25T12:39:59.670424Z",
     "shell.execute_reply": "2025-08-25T12:39:59.669404Z"
    },
    "papermill": {
     "duration": 0.101855,
     "end_time": "2025-08-25T12:39:59.672033",
     "exception": false,
     "start_time": "2025-08-25T12:39:59.570178",
     "status": "completed"
    },
    "tags": []
   },
   "outputs": [
    {
     "name": "stdout",
     "output_type": "stream",
     "text": [
      "Testing data loader...\n",
      "Batch 1: Input shape: torch.Size([64, 50]), Label shape: torch.Size([64])\n",
      "Input range: 0 to 7526\n",
      "Vocabulary size: 7571\n",
      "All input indices are within vocabulary range\n"
     ]
    }
   ],
   "source": [
    "# Split data\n",
    "X_train, X_val, y_train, y_val = train_test_split(\n",
    "    train_data['combined_text'], \n",
    "    train_data['target'], \n",
    "    test_size=0.2, \n",
    "    random_state=42,\n",
    "    stratify=train_data['target']\n",
    ")\n",
    "\n",
    "# Create datasets\n",
    "train_dataset = TweetDataset(X_train.tolist(), y_train.tolist(), vocab)\n",
    "val_dataset = TweetDataset(X_val.tolist(), y_val.tolist(), vocab)\n",
    "\n",
    "# Create data loaders\n",
    "batch_size = 64\n",
    "train_loader = DataLoader(train_dataset, batch_size=batch_size, shuffle=True)\n",
    "val_loader = DataLoader(val_dataset, batch_size=batch_size, shuffle=False)\n",
    "\n",
    "# Prepare test data\n",
    "test_texts = test_data['combined_text'].tolist()\n",
    "test_dataset = TweetDataset(test_texts, None, vocab)\n",
    "test_loader = DataLoader(test_dataset, batch_size=batch_size, shuffle=False)\n",
    "\n",
    "# Test the data loader\n",
    "print(\"Testing data loader...\")\n",
    "for batch_idx, (inputs, labels) in enumerate(train_loader):\n",
    "    print(f\"Batch {batch_idx + 1}: Input shape: {inputs.shape}, Label shape: {labels.shape}\")\n",
    "    print(f\"Input range: {inputs.min()} to {inputs.max()}\")\n",
    "    print(f\"Vocabulary size: {len(vocab)}\")\n",
    "    \n",
    "    # Check if any input index is out of vocabulary range\n",
    "    if inputs.max() >= len(vocab):\n",
    "        print(f\"ERROR: Input index {inputs.max()} >= vocab size {len(vocab)}\")\n",
    "    else:\n",
    "        print(\"All input indices are within vocabulary range\")\n",
    "    \n",
    "    if batch_idx == 0:  # Only check first batch\n",
    "        break"
   ]
  },
  {
   "cell_type": "markdown",
   "id": "64d2b535",
   "metadata": {
    "papermill": {
     "duration": 0.006777,
     "end_time": "2025-08-25T12:39:59.686037",
     "exception": false,
     "start_time": "2025-08-25T12:39:59.679260",
     "status": "completed"
    },
    "tags": []
   },
   "source": [
    "## Build model"
   ]
  },
  {
   "cell_type": "code",
   "execution_count": 14,
   "id": "9eaefd5d",
   "metadata": {
    "execution": {
     "iopub.execute_input": "2025-08-25T12:39:59.700769Z",
     "iopub.status.busy": "2025-08-25T12:39:59.700467Z",
     "iopub.status.idle": "2025-08-25T12:39:59.706693Z",
     "shell.execute_reply": "2025-08-25T12:39:59.705995Z"
    },
    "papermill": {
     "duration": 0.015267,
     "end_time": "2025-08-25T12:39:59.708046",
     "exception": false,
     "start_time": "2025-08-25T12:39:59.692779",
     "status": "completed"
    },
    "tags": []
   },
   "outputs": [],
   "source": [
    "# LSTM\n",
    "class DisasterClassifierLSTM(nn.Module):\n",
    "    def __init__(self, vocab_size, embedding_dim=100, hidden_dim=128, n_layers=2, dropout=0.3):\n",
    "        super(DisasterClassifierLSTM, self).__init__()\n",
    "        self.embedding = nn.Embedding(vocab_size, embedding_dim, padding_idx=0)\n",
    "        self.lstm = nn.LSTM(embedding_dim, hidden_dim, n_layers, \n",
    "                           batch_first=True, dropout=dropout, bidirectional=True)\n",
    "        self.dropout = nn.Dropout(dropout)\n",
    "        self.fc = nn.Linear(hidden_dim * 2, 2)  # *2 for bidirectional\n",
    "        self.sigmoid = nn.Sigmoid()\n",
    "        \n",
    "    def forward(self, x):\n",
    "        embedded = self.embedding(x)\n",
    "        lstm_out, (hidden, cell) = self.lstm(embedded)\n",
    "        \n",
    "        # Concatenate the final forward and backward hidden states\n",
    "        hidden = torch.cat((hidden[-2,:,:], hidden[-1,:,:]), dim=1)\n",
    "        \n",
    "        out = self.dropout(hidden)\n",
    "        out = self.fc(out)\n",
    "        return out"
   ]
  },
  {
   "cell_type": "code",
   "execution_count": 15,
   "id": "05936be1",
   "metadata": {
    "execution": {
     "iopub.execute_input": "2025-08-25T12:39:59.724418Z",
     "iopub.status.busy": "2025-08-25T12:39:59.723791Z",
     "iopub.status.idle": "2025-08-25T12:39:59.730229Z",
     "shell.execute_reply": "2025-08-25T12:39:59.729524Z"
    },
    "papermill": {
     "duration": 0.016671,
     "end_time": "2025-08-25T12:39:59.731590",
     "exception": false,
     "start_time": "2025-08-25T12:39:59.714919",
     "status": "completed"
    },
    "tags": []
   },
   "outputs": [],
   "source": [
    "# RNN\n",
    "class DisasterClassifierRNN(nn.Module):\n",
    "    def __init__(self, vocab_size, embedding_dim=100, hidden_dim=128, n_layers=2, dropout=0.3):\n",
    "        super(DisasterClassifierRNN, self).__init__()\n",
    "        self.embedding = nn.Embedding(vocab_size, embedding_dim, padding_idx=0)\n",
    "        self.rnn = nn.RNN(embedding_dim, hidden_dim, n_layers, \n",
    "                          batch_first=True, dropout=dropout, bidirectional=True)\n",
    "        self.dropout = nn.Dropout(dropout)\n",
    "        self.fc = nn.Linear(hidden_dim * 2, 2)  # *2 for bidirectional\n",
    "        self.sigmoid = nn.Sigmoid()\n",
    "        \n",
    "    def forward(self, x):\n",
    "        embedded = self.embedding(x)\n",
    "        rnn_out, hidden = self.rnn(embedded)\n",
    "        \n",
    "        # Concatenate the final forward and backward hidden states\n",
    "        hidden = torch.cat((hidden[-2,:,:], hidden[-1,:,:]), dim=1)\n",
    "        \n",
    "        out = self.dropout(hidden)\n",
    "        out = self.fc(out)\n",
    "        return out"
   ]
  },
  {
   "cell_type": "markdown",
   "id": "b667d180",
   "metadata": {
    "papermill": {
     "duration": 0.006424,
     "end_time": "2025-08-25T12:39:59.745059",
     "exception": false,
     "start_time": "2025-08-25T12:39:59.738635",
     "status": "completed"
    },
    "tags": []
   },
   "source": [
    "## Train model"
   ]
  },
  {
   "cell_type": "code",
   "execution_count": 16,
   "id": "5af0e1c0",
   "metadata": {
    "execution": {
     "iopub.execute_input": "2025-08-25T12:39:59.759592Z",
     "iopub.status.busy": "2025-08-25T12:39:59.759247Z",
     "iopub.status.idle": "2025-08-25T12:39:59.768097Z",
     "shell.execute_reply": "2025-08-25T12:39:59.767331Z"
    },
    "papermill": {
     "duration": 0.01766,
     "end_time": "2025-08-25T12:39:59.769373",
     "exception": false,
     "start_time": "2025-08-25T12:39:59.751713",
     "status": "completed"
    },
    "tags": []
   },
   "outputs": [],
   "source": [
    "def train_model(model, train_loader, val_loader, criterion, optimizer, num_epochs=10):\n",
    "    train_losses = []\n",
    "    val_accuracies = []\n",
    "    best_accuracy = 0\n",
    "    \n",
    "    for epoch in range(num_epochs):\n",
    "        # Training phase\n",
    "        model.train()\n",
    "        running_loss = 0.0\n",
    "        \n",
    "        for batch_idx, (inputs, labels) in enumerate(train_loader):\n",
    "            inputs, labels = inputs.to(device), labels.to(device)\n",
    "            \n",
    "            # Debug: Check input values\n",
    "            if inputs.max() >= len(vocab):\n",
    "                print(f\"ERROR: Input index {inputs.max()} >= vocab size {len(vocab)}\")\n",
    "                continue\n",
    "            \n",
    "            optimizer.zero_grad()\n",
    "            outputs = model(inputs)\n",
    "            loss = criterion(outputs, labels)\n",
    "            loss.backward()\n",
    "            optimizer.step()\n",
    "            \n",
    "            running_loss += loss.item()\n",
    "        \n",
    "        # Calculate average training loss\n",
    "        epoch_loss = running_loss / len(train_loader)\n",
    "        train_losses.append(epoch_loss)\n",
    "        \n",
    "        # Validation phase\n",
    "        model.eval()\n",
    "        all_preds = []\n",
    "        all_labels = []\n",
    "        \n",
    "        with torch.no_grad():\n",
    "            for inputs, labels in val_loader:\n",
    "                inputs, labels = inputs.to(device), labels.to(device)\n",
    "                \n",
    "                # Debug: Check input values\n",
    "                if inputs.max() >= len(vocab):\n",
    "                    print(f\"ERROR: Input index {inputs.max()} >= vocab size {len(vocab)}\")\n",
    "                    continue\n",
    "                \n",
    "                outputs = model(inputs)\n",
    "                _, preds = torch.max(outputs, 1)\n",
    "                \n",
    "                all_preds.extend(preds.cpu().numpy())\n",
    "                all_labels.extend(labels.cpu().numpy())\n",
    "        \n",
    "        # Calculate validation accuracy\n",
    "        val_accuracy = accuracy_score(all_labels, all_preds)\n",
    "        val_accuracies.append(val_accuracy)\n",
    "        \n",
    "        # Save best model\n",
    "        if val_accuracy > best_accuracy:\n",
    "            best_accuracy = val_accuracy\n",
    "            torch.save(model.state_dict(), 'best_model.pth')\n",
    "        \n",
    "        print(f'Epoch {epoch+1}/{num_epochs}, Loss: {epoch_loss:.4f}, Val Accuracy: {val_accuracy:.4f}')\n",
    "    \n",
    "    return train_losses, val_accuracies"
   ]
  },
  {
   "cell_type": "code",
   "execution_count": 17,
   "id": "93a7ae29",
   "metadata": {
    "execution": {
     "iopub.execute_input": "2025-08-25T12:39:59.784529Z",
     "iopub.status.busy": "2025-08-25T12:39:59.783917Z",
     "iopub.status.idle": "2025-08-25T12:39:59.787438Z",
     "shell.execute_reply": "2025-08-25T12:39:59.786866Z"
    },
    "papermill": {
     "duration": 0.012328,
     "end_time": "2025-08-25T12:39:59.788676",
     "exception": false,
     "start_time": "2025-08-25T12:39:59.776348",
     "status": "completed"
    },
    "tags": []
   },
   "outputs": [],
   "source": [
    "## RNN"
   ]
  },
  {
   "cell_type": "code",
   "execution_count": 18,
   "id": "155c92aa",
   "metadata": {
    "execution": {
     "iopub.execute_input": "2025-08-25T12:39:59.803421Z",
     "iopub.status.busy": "2025-08-25T12:39:59.803149Z",
     "iopub.status.idle": "2025-08-25T12:42:02.335408Z",
     "shell.execute_reply": "2025-08-25T12:42:02.334455Z"
    },
    "papermill": {
     "duration": 122.541253,
     "end_time": "2025-08-25T12:42:02.337027",
     "exception": false,
     "start_time": "2025-08-25T12:39:59.795774",
     "status": "completed"
    },
    "tags": []
   },
   "outputs": [
    {
     "name": "stdout",
     "output_type": "stream",
     "text": [
      "Using device: cpu\n",
      "Model architecture:\n",
      "DisasterClassifierRNN(\n",
      "  (embedding): Embedding(7571, 100, padding_idx=0)\n",
      "  (rnn): RNN(100, 128, num_layers=2, batch_first=True, dropout=0.3, bidirectional=True)\n",
      "  (dropout): Dropout(p=0.3, inplace=False)\n",
      "  (fc): Linear(in_features=256, out_features=2, bias=True)\n",
      "  (sigmoid): Sigmoid()\n",
      ")\n",
      "Epoch 1/15, Loss: 0.6217, Val Accuracy: 0.7144\n",
      "Epoch 2/15, Loss: 0.5424, Val Accuracy: 0.7505\n",
      "Epoch 3/15, Loss: 0.4852, Val Accuracy: 0.7610\n",
      "Epoch 4/15, Loss: 0.4340, Val Accuracy: 0.7617\n",
      "Epoch 5/15, Loss: 0.3818, Val Accuracy: 0.7577\n",
      "Epoch 6/15, Loss: 0.3373, Val Accuracy: 0.7466\n",
      "Epoch 7/15, Loss: 0.3022, Val Accuracy: 0.7597\n",
      "Epoch 8/15, Loss: 0.2489, Val Accuracy: 0.7538\n",
      "Epoch 9/15, Loss: 0.2167, Val Accuracy: 0.7498\n",
      "Epoch 10/15, Loss: 0.1841, Val Accuracy: 0.7518\n",
      "Epoch 11/15, Loss: 0.1522, Val Accuracy: 0.7426\n",
      "Epoch 12/15, Loss: 0.1565, Val Accuracy: 0.7354\n",
      "Epoch 13/15, Loss: 0.1235, Val Accuracy: 0.7387\n",
      "Epoch 14/15, Loss: 0.0898, Val Accuracy: 0.7203\n",
      "Epoch 15/15, Loss: 0.0844, Val Accuracy: 0.7406\n"
     ]
    },
    {
     "data": {
      "image/png": "[encoded data removed]",
      "text/plain": [
       "<Figure size 1200x500 with 2 Axes>"
      ]
     },
     "metadata": {},
     "output_type": "display_data"
    }
   ],
   "source": [
    "# Initialize model\n",
    "vocab_size = len(vocab)\n",
    "model = DisasterClassifierRNN(vocab_size)\n",
    "criterion = nn.CrossEntropyLoss()\n",
    "optimizer = optim.Adam(model.parameters(), lr=0.001, weight_decay=1e-5)\n",
    "\n",
    "# Check if GPU is available\n",
    "device = torch.device('cuda' if torch.cuda.is_available() else 'cpu')\n",
    "model = model.to(device)\n",
    "print(f\"Using device: {device}\")\n",
    "print(f\"Model architecture:\\n{model}\")\n",
    "# Train the model\n",
    "num_epochs = 15\n",
    "train_losses, val_accuracies = train_model(\n",
    "    model, train_loader, val_loader, criterion, optimizer, num_epochs\n",
    ")\n",
    "# Plot training history\n",
    "plt.figure(figsize=(12, 5))\n",
    "\n",
    "plt.subplot(1, 2, 1)\n",
    "plt.plot(train_losses, label='Training Loss')\n",
    "plt.title('Training Loss')\n",
    "plt.xlabel('Epoch')\n",
    "plt.ylabel('Loss')\n",
    "plt.legend()\n",
    "\n",
    "plt.subplot(1, 2, 2)\n",
    "plt.plot(val_accuracies, label='Validation Accuracy', color='orange')\n",
    "plt.title('Validation Accuracy')\n",
    "plt.xlabel('Epoch')\n",
    "plt.ylabel('Accuracy')\n",
    "plt.legend()\n",
    "\n",
    "plt.tight_layout()\n",
    "plt.show()"
   ]
  },
  {
   "cell_type": "code",
   "execution_count": 19,
   "id": "ff886761",
   "metadata": {
    "execution": {
     "iopub.execute_input": "2025-08-25T12:42:02.356131Z",
     "iopub.status.busy": "2025-08-25T12:42:02.355670Z",
     "iopub.status.idle": "2025-08-25T12:42:03.091955Z",
     "shell.execute_reply": "2025-08-25T12:42:03.091044Z"
    },
    "papermill": {
     "duration": 0.747581,
     "end_time": "2025-08-25T12:42:03.093542",
     "exception": false,
     "start_time": "2025-08-25T12:42:02.345961",
     "status": "completed"
    },
    "tags": []
   },
   "outputs": [
    {
     "name": "stdout",
     "output_type": "stream",
     "text": [
      "\n",
      "Final Validation Results:\n",
      "Accuracy: 0.7617\n",
      "\n",
      "Classification Report:\n",
      "              precision    recall  f1-score   support\n",
      "\n",
      "           0       0.76      0.84      0.80       869\n",
      "           1       0.76      0.65      0.70       654\n",
      "\n",
      "    accuracy                           0.76      1523\n",
      "   macro avg       0.76      0.75      0.75      1523\n",
      "weighted avg       0.76      0.76      0.76      1523\n",
      "\n"
     ]
    },
    {
     "data": {
      "image/png": "[encoded data removed]",
      "text/plain": [
       "<Figure size 800x600 with 2 Axes>"
      ]
     },
     "metadata": {},
     "output_type": "display_data"
    }
   ],
   "source": [
    "# Load best model\n",
    "model.load_state_dict(torch.load('best_model.pth'))\n",
    "model.eval()\n",
    "\n",
    "# Final evaluation on validation set\n",
    "all_preds = []\n",
    "all_labels = []\n",
    "\n",
    "with torch.no_grad():\n",
    "    for inputs, labels in val_loader:\n",
    "        inputs, labels = inputs.to(device), labels.to(device)\n",
    "        outputs = model(inputs)\n",
    "        _, preds = torch.max(outputs, 1)\n",
    "        \n",
    "        all_preds.extend(preds.cpu().numpy())\n",
    "        all_labels.extend(labels.cpu().numpy())\n",
    "\n",
    "print(\"\\nFinal Validation Results:\")\n",
    "print(f\"Accuracy: {accuracy_score(all_labels, all_preds):.4f}\")\n",
    "print(\"\\nClassification Report:\")\n",
    "print(classification_report(all_labels, all_preds))\n",
    "\n",
    "# Confusion matrix\n",
    "cm = confusion_matrix(all_labels, all_preds)\n",
    "plt.figure(figsize=(8, 6))\n",
    "sns.heatmap(cm, annot=True, fmt='d', cmap='Blues')\n",
    "plt.title('Confusion Matrix')\n",
    "plt.ylabel('True Label')\n",
    "plt.xlabel('Predicted Label')\n",
    "plt.show()"
   ]
  },
  {
   "cell_type": "markdown",
   "id": "a98ae6c5",
   "metadata": {
    "papermill": {
     "duration": 0.009271,
     "end_time": "2025-08-25T12:42:03.112434",
     "exception": false,
     "start_time": "2025-08-25T12:42:03.103163",
     "status": "completed"
    },
    "tags": []
   },
   "source": [
    "## LSTM"
   ]
  },
  {
   "cell_type": "code",
   "execution_count": 20,
   "id": "f9bffe65",
   "metadata": {
    "execution": {
     "iopub.execute_input": "2025-08-25T12:42:03.132259Z",
     "iopub.status.busy": "2025-08-25T12:42:03.131940Z",
     "iopub.status.idle": "2025-08-25T12:42:03.150604Z",
     "shell.execute_reply": "2025-08-25T12:42:03.149580Z"
    },
    "papermill": {
     "duration": 0.030344,
     "end_time": "2025-08-25T12:42:03.151958",
     "exception": false,
     "start_time": "2025-08-25T12:42:03.121614",
     "status": "completed"
    },
    "tags": []
   },
   "outputs": [
    {
     "name": "stdout",
     "output_type": "stream",
     "text": [
      "Using device: cpu\n",
      "Model architecture:\n",
      "DisasterClassifierLSTM(\n",
      "  (embedding): Embedding(7571, 100, padding_idx=0)\n",
      "  (lstm): LSTM(100, 128, num_layers=2, batch_first=True, dropout=0.3, bidirectional=True)\n",
      "  (dropout): Dropout(p=0.3, inplace=False)\n",
      "  (fc): Linear(in_features=256, out_features=2, bias=True)\n",
      "  (sigmoid): Sigmoid()\n",
      ")\n"
     ]
    }
   ],
   "source": [
    "# Initialize model\n",
    "vocab_size = len(vocab)\n",
    "model = DisasterClassifierLSTM(vocab_size)\n",
    "criterion = nn.CrossEntropyLoss()\n",
    "optimizer = optim.Adam(model.parameters(), lr=0.001, weight_decay=1e-5)\n",
    "\n",
    "# Check if GPU is available\n",
    "device = torch.device('cuda' if torch.cuda.is_available() else 'cpu')\n",
    "model = model.to(device)\n",
    "print(f\"Using device: {device}\")\n",
    "print(f\"Model architecture:\\n{model}\")"
   ]
  },
  {
   "cell_type": "code",
   "execution_count": 21,
   "id": "5418fbdf",
   "metadata": {
    "execution": {
     "iopub.execute_input": "2025-08-25T12:42:03.171534Z",
     "iopub.status.busy": "2025-08-25T12:42:03.171196Z",
     "iopub.status.idle": "2025-08-25T12:48:43.493199Z",
     "shell.execute_reply": "2025-08-25T12:48:43.491998Z"
    },
    "papermill": {
     "duration": 400.333461,
     "end_time": "2025-08-25T12:48:43.494722",
     "exception": false,
     "start_time": "2025-08-25T12:42:03.161261",
     "status": "completed"
    },
    "tags": []
   },
   "outputs": [
    {
     "name": "stdout",
     "output_type": "stream",
     "text": [
      "Epoch 1/15, Loss: 0.6122, Val Accuracy: 0.7472\n",
      "Epoch 2/15, Loss: 0.4753, Val Accuracy: 0.7728\n",
      "Epoch 3/15, Loss: 0.4144, Val Accuracy: 0.7787\n",
      "Epoch 4/15, Loss: 0.3588, Val Accuracy: 0.7814\n",
      "Epoch 5/15, Loss: 0.3024, Val Accuracy: 0.7702\n",
      "Epoch 6/15, Loss: 0.2554, Val Accuracy: 0.7800\n",
      "Epoch 7/15, Loss: 0.2133, Val Accuracy: 0.7649\n",
      "Epoch 8/15, Loss: 0.1635, Val Accuracy: 0.7610\n",
      "Epoch 9/15, Loss: 0.1345, Val Accuracy: 0.7400\n",
      "Epoch 10/15, Loss: 0.1060, Val Accuracy: 0.7597\n",
      "Epoch 11/15, Loss: 0.0848, Val Accuracy: 0.7472\n",
      "Epoch 12/15, Loss: 0.0685, Val Accuracy: 0.7564\n",
      "Epoch 13/15, Loss: 0.0615, Val Accuracy: 0.7479\n",
      "Epoch 14/15, Loss: 0.0467, Val Accuracy: 0.7643\n",
      "Epoch 15/15, Loss: 0.0465, Val Accuracy: 0.7334\n"
     ]
    }
   ],
   "source": [
    "# Train the model\n",
    "num_epochs = 15\n",
    "train_losses, val_accuracies = train_model(\n",
    "    model, train_loader, val_loader, criterion, optimizer, num_epochs\n",
    ")"
   ]
  },
  {
   "cell_type": "code",
   "execution_count": 22,
   "id": "af7801a1",
   "metadata": {
    "execution": {
     "iopub.execute_input": "2025-08-25T12:48:43.516502Z",
     "iopub.status.busy": "2025-08-25T12:48:43.516159Z",
     "iopub.status.idle": "2025-08-25T12:48:43.916872Z",
     "shell.execute_reply": "2025-08-25T12:48:43.915975Z"
    },
    "papermill": {
     "duration": 0.413544,
     "end_time": "2025-08-25T12:48:43.918603",
     "exception": false,
     "start_time": "2025-08-25T12:48:43.505059",
     "status": "completed"
    },
    "tags": []
   },
   "outputs": [
    {
     "data": {
      "image/png": "[encoded data removed]",
      "text/plain": [
       "<Figure size 1200x500 with 2 Axes>"
      ]
     },
     "metadata": {},
     "output_type": "display_data"
    }
   ],
   "source": [
    "# Plot training history\n",
    "plt.figure(figsize=(12, 5))\n",
    "\n",
    "plt.subplot(1, 2, 1)\n",
    "plt.plot(train_losses, label='Training Loss')\n",
    "plt.title('Training Loss')\n",
    "plt.xlabel('Epoch')\n",
    "plt.ylabel('Loss')\n",
    "plt.legend()\n",
    "\n",
    "plt.subplot(1, 2, 2)\n",
    "plt.plot(val_accuracies, label='Validation Accuracy', color='orange')\n",
    "plt.title('Validation Accuracy')\n",
    "plt.xlabel('Epoch')\n",
    "plt.ylabel('Accuracy')\n",
    "plt.legend()\n",
    "\n",
    "plt.tight_layout()\n",
    "plt.show()"
   ]
  },
  {
   "cell_type": "markdown",
   "id": "434568a3",
   "metadata": {
    "papermill": {
     "duration": 0.010706,
     "end_time": "2025-08-25T12:48:43.940765",
     "exception": false,
     "start_time": "2025-08-25T12:48:43.930059",
     "status": "completed"
    },
    "tags": []
   },
   "source": [
    "## Model Evaluation"
   ]
  },
  {
   "cell_type": "code",
   "execution_count": 23,
   "id": "4f1777c9",
   "metadata": {
    "execution": {
     "iopub.execute_input": "2025-08-25T12:48:43.964062Z",
     "iopub.status.busy": "2025-08-25T12:48:43.963742Z",
     "iopub.status.idle": "2025-08-25T12:48:45.658244Z",
     "shell.execute_reply": "2025-08-25T12:48:45.657271Z"
    },
    "papermill": {
     "duration": 1.708144,
     "end_time": "2025-08-25T12:48:45.659710",
     "exception": false,
     "start_time": "2025-08-25T12:48:43.951566",
     "status": "completed"
    },
    "tags": []
   },
   "outputs": [
    {
     "name": "stdout",
     "output_type": "stream",
     "text": [
      "\n",
      "Final Validation Results:\n",
      "Accuracy: 0.7814\n",
      "\n",
      "Classification Report:\n",
      "              precision    recall  f1-score   support\n",
      "\n",
      "           0       0.77      0.88      0.82       869\n",
      "           1       0.81      0.64      0.72       654\n",
      "\n",
      "    accuracy                           0.78      1523\n",
      "   macro avg       0.79      0.76      0.77      1523\n",
      "weighted avg       0.78      0.78      0.78      1523\n",
      "\n"
     ]
    },
    {
     "data": {
      "image/png": "[encoded data removed]",
      "text/plain": [
       "<Figure size 800x600 with 2 Axes>"
      ]
     },
     "metadata": {},
     "output_type": "display_data"
    }
   ],
   "source": [
    "# Load best model\n",
    "model.load_state_dict(torch.load('best_model.pth'))\n",
    "model.eval()\n",
    "\n",
    "# Final evaluation on validation set\n",
    "all_preds = []\n",
    "all_labels = []\n",
    "\n",
    "with torch.no_grad():\n",
    "    for inputs, labels in val_loader:\n",
    "        inputs, labels = inputs.to(device), labels.to(device)\n",
    "        outputs = model(inputs)\n",
    "        _, preds = torch.max(outputs, 1)\n",
    "        \n",
    "        all_preds.extend(preds.cpu().numpy())\n",
    "        all_labels.extend(labels.cpu().numpy())\n",
    "\n",
    "print(\"\\nFinal Validation Results:\")\n",
    "print(f\"Accuracy: {accuracy_score(all_labels, all_preds):.4f}\")\n",
    "print(\"\\nClassification Report:\")\n",
    "print(classification_report(all_labels, all_preds))\n",
    "\n",
    "# Confusion matrix\n",
    "cm = confusion_matrix(all_labels, all_preds)\n",
    "plt.figure(figsize=(8, 6))\n",
    "sns.heatmap(cm, annot=True, fmt='d', cmap='Blues')\n",
    "plt.title('Confusion Matrix')\n",
    "plt.ylabel('True Label')\n",
    "plt.xlabel('Predicted Label')\n",
    "plt.show()"
   ]
  },
  {
   "cell_type": "markdown",
   "id": "d1c60bba",
   "metadata": {
    "papermill": {
     "duration": 0.011406,
     "end_time": "2025-08-25T12:48:45.683232",
     "exception": false,
     "start_time": "2025-08-25T12:48:45.671826",
     "status": "completed"
    },
    "tags": []
   },
   "source": [
    "## Make Predictions on Test Data"
   ]
  },
  {
   "cell_type": "code",
   "execution_count": 24,
   "id": "e26b90a7",
   "metadata": {
    "execution": {
     "iopub.execute_input": "2025-08-25T12:48:45.706962Z",
     "iopub.status.busy": "2025-08-25T12:48:45.706645Z",
     "iopub.status.idle": "2025-08-25T12:48:48.896948Z",
     "shell.execute_reply": "2025-08-25T12:48:48.895842Z"
    },
    "papermill": {
     "duration": 3.203989,
     "end_time": "2025-08-25T12:48:48.898350",
     "exception": false,
     "start_time": "2025-08-25T12:48:45.694361",
     "status": "completed"
    },
    "tags": []
   },
   "outputs": [
    {
     "name": "stdout",
     "output_type": "stream",
     "text": [
      "Submission file created: submission.csv\n"
     ]
    }
   ],
   "source": [
    "# Make predictions on test data\n",
    "test_preds = []\n",
    "\n",
    "with torch.no_grad():\n",
    "    for inputs in test_loader:\n",
    "        inputs = inputs.to(device)\n",
    "        outputs = model(inputs)\n",
    "        _, preds = torch.max(outputs, 1)\n",
    "        test_preds.extend(preds.cpu().numpy())\n",
    "\n",
    "# Create submission file\n",
    "submission = pd.DataFrame({\n",
    "    'id': test_data['id'],\n",
    "    'target': test_preds\n",
    "})\n",
    "submission.to_csv('submission.csv', index=False)\n",
    "print(\"Submission file created: submission.csv\")"
   ]
  },
  {
   "cell_type": "markdown",
   "id": "f9959fbe",
   "metadata": {
    "papermill": {
     "duration": 0.011653,
     "end_time": "2025-08-25T12:48:48.922513",
     "exception": false,
     "start_time": "2025-08-25T12:48:48.910860",
     "status": "completed"
    },
    "tags": []
   },
   "source": [
    "## Results and Discussion\n",
    "\n",
    "The LSTM model achieved a validation accuracy of 78.14% on the disaster tweets classification task, demonstrating good performance in distinguishing between disaster-related and non-disaster tweets. In comparison, the RNN model achieved a validation accuracy of 76.17%, showing that the LSTM architecture, with its ability to capture long-term dependencies, provides a slight edge in performance.\n",
    "\n",
    "### Key Findings:\n",
    "1. **LSTM Architecture**: The LSTM architecture effectively captures sequential patterns in tweet text, making it suitable for text classification tasks.\n",
    "2. **Bidirectional LSTM**: The bidirectional LSTM helps understand context from both directions, contributing to better performance.\n",
    "3. **Regularization**: Dropout regularization prevents overfitting, ensuring the model generalizes well to unseen data.\n",
    "4. **Class Performance**: The model performs well on both classes (disaster and non-disaster), achieving a balanced performance across different types of tweets.\n",
    "\n",
    "### Limitations and Future Work:\n",
    "1. **Transformer-Based Models**: Experiment with transformer-based models (BERT, DistilBERT) to leverage their advanced capabilities for understanding context and semantics.\n",
    "2. **Embedding Techniques**: Try different embedding techniques (GloVe, Word2Vec) to potentially improve model performance.\n",
    "3. **Attention Mechanisms**: Implement attention mechanisms to help the model focus on important parts of the text.\n",
    "4. **Text Preprocessing**: Use more sophisticated text preprocessing techniques, such as lemmatization and stop-word removal, to enhance the quality of the input data.\n",
    "5. **Hyperparameter Tuning**: Perform hyperparameter tuning to find the optimal settings for the model.\n",
    "\n",
    "### Conclusion\n",
    "\n",
    "This project demonstrated the effectiveness of LSTM networks for text classification tasks, specifically for identifying disaster-related tweets. The model achieved competitive performance and could be further improved with more advanced architectures and techniques.\n",
    "\n",
    "The solution provides a solid foundation for real-time monitoring of social media during emergency situations, which could be valuable for disaster relief organizations and news agencies. Future work will focus on exploring transformer-based models and other advanced techniques to further enhance the model’s performance and robustness."
   ]
  }
 ],
 "metadata": {
  "kaggle": {
   "accelerator": "none",
   "dataSources": [
    {
     "databundleVersionId": 869809,
     "sourceId": 17777,
     "sourceType": "competition"
    }
   ],
   "dockerImageVersionId": 31089,
   "isGpuEnabled": false,
   "isInternetEnabled": true,
   "language": "python",
   "sourceType": "notebook"
  },
  "kernelspec": {
   "display_name": "Python 3",
   "language": "python",
   "name": "python3"
  },
  "language_info": {
   "codemirror_mode": {
    "name": "ipython",
    "version": 3
   },
   "file_extension": ".py",
   "mimetype": "text/x-python",
   "name": "python",
   "nbconvert_exporter": "python",
   "pygments_lexer": "ipython3",
   "version": "3.11.13"
  },
  "papermill": {
   "default_parameters": {},
   "duration": 545.723391,
   "end_time": "2025-08-25T12:48:50.860089",
   "environment_variables": {},
   "exception": null,
   "input_path": "__notebook__.ipynb",
   "output_path": "__notebook__.ipynb",
   "parameters": {},
   "start_time": "2025-08-25T12:39:45.136698",
   "version": "2.6.0"
  }
 },
 "nbformat": 4,
 "nbformat_minor": 5
}
